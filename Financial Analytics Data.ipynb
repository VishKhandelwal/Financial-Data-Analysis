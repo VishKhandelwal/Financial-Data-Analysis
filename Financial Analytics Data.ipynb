{
 "cells": [
  {
   "cell_type": "code",
   "execution_count": 1,
   "id": "a5b76391-544f-4c8e-9cda-6f3850193a97",
   "metadata": {},
   "outputs": [],
   "source": [
    "import pandas as pd\n",
    "import matplotlib as plt"
   ]
  },
  {
   "cell_type": "code",
   "execution_count": 2,
   "id": "c439706e-3f02-4bd6-b80b-55d16371645c",
   "metadata": {},
   "outputs": [],
   "source": [
    "df=pd.read_csv(r'C:\\Users\\khand\\Financial Analytics data.csv')"
   ]
  },
  {
   "cell_type": "code",
   "execution_count": 3,
   "id": "99481586-044b-4c4e-be70-dd56b7f9b3e5",
   "metadata": {},
   "outputs": [
    {
     "name": "stdout",
     "output_type": "stream",
     "text": [
      "<class 'pandas.core.frame.DataFrame'>\n",
      "RangeIndex: 488 entries, 0 to 487\n",
      "Data columns (total 5 columns):\n",
      " #   Column             Non-Null Count  Dtype  \n",
      "---  ------             --------------  -----  \n",
      " 0   S.No.              488 non-null    int64  \n",
      " 1   Name               488 non-null    object \n",
      " 2   Mar Cap - Crore    479 non-null    float64\n",
      " 3   Sales Qtr - Crore  365 non-null    float64\n",
      " 4   Unnamed: 4         94 non-null     float64\n",
      "dtypes: float64(3), int64(1), object(1)\n",
      "memory usage: 19.2+ KB\n",
      "None\n"
     ]
    }
   ],
   "source": [
    "print(df.info())"
   ]
  },
  {
   "cell_type": "code",
   "execution_count": 4,
   "id": "d28ab5a0-f027-47f6-961d-6010760ae792",
   "metadata": {},
   "outputs": [
    {
     "name": "stdout",
     "output_type": "stream",
     "text": [
      "            S.No.  Mar Cap - Crore  Sales Qtr - Crore   Unnamed: 4\n",
      "count  488.000000       479.000000         365.000000    94.000000\n",
      "mean   251.508197     28043.857119        4395.976849  1523.870106\n",
      "std    145.884078     59464.615831       11092.206185  1800.008836\n",
      "min      1.000000      3017.070000          47.240000     0.000000\n",
      "25%    122.750000      4843.575000         593.740000   407.167500\n",
      "50%    252.500000      9885.050000        1278.300000   702.325000\n",
      "75%    378.250000     23549.900000        2840.750000  2234.815000\n",
      "max    500.000000    583436.720000      110666.930000  7757.060000\n"
     ]
    }
   ],
   "source": [
    "print(df.describe())"
   ]
  },
  {
   "cell_type": "code",
   "execution_count": 5,
   "id": "367a0a05-ec30-47e8-b0ed-2adf7ce2b88d",
   "metadata": {},
   "outputs": [
    {
     "name": "stdout",
     "output_type": "stream",
     "text": [
      "     S.No.             Name  Mar Cap - Crore  Sales Qtr - Crore  Unnamed: 4\n",
      "0        1   Reliance Inds.        583436.72           99810.00         NaN\n",
      "1        2              TCS        563709.84           30904.00         NaN\n",
      "2        3        HDFC Bank        482953.59           20581.27         NaN\n",
      "3        4              ITC        320985.27            9772.02         NaN\n",
      "4        5          H D F C        289497.37           16840.51         NaN\n",
      "..     ...              ...              ...                ...         ...\n",
      "483    496  Lak. Vilas Bank          3029.57             790.17         NaN\n",
      "484    497            NOCIL          3026.26             249.27         NaN\n",
      "485    498    Orient Cement          3024.32             511.53         NaN\n",
      "486    499  Natl.Fertilizer          3017.07            2840.75         NaN\n",
      "487    500        L T Foods              NaN                NaN         NaN\n",
      "\n",
      "[488 rows x 5 columns]\n"
     ]
    }
   ],
   "source": [
    "print(df)"
   ]
  },
  {
   "cell_type": "code",
   "execution_count": 3,
   "id": "cea63400-d650-401e-a413-73e600ab8828",
   "metadata": {},
   "outputs": [
    {
     "ename": "NameError",
     "evalue": "name 'df' is not defined",
     "output_type": "error",
     "traceback": [
      "\u001b[1;31m---------------------------------------------------------------------------\u001b[0m",
      "\u001b[1;31mNameError\u001b[0m                                 Traceback (most recent call last)",
      "Cell \u001b[1;32mIn[3], line 1\u001b[0m\n\u001b[1;32m----> 1\u001b[0m \u001b[43mdf\u001b[49m\u001b[38;5;241m.\u001b[39mgroupby(\u001b[38;5;124m'\u001b[39m\u001b[38;5;124mName\u001b[39m\u001b[38;5;124m'\u001b[39m)\u001b[38;5;241m.\u001b[39magg({\u001b[38;5;124m'\u001b[39m\u001b[38;5;124mSales Qtr - Crore\u001b[39m\u001b[38;5;124m'\u001b[39m: \u001b[38;5;124m'\u001b[39m\u001b[38;5;124mmax\u001b[39m\u001b[38;5;124m'\u001b[39m})\u001b[38;5;241m.\u001b[39msort_values(by\u001b[38;5;241m=\u001b[39m\u001b[38;5;124m'\u001b[39m\u001b[38;5;124mSales Qtr - Crore\u001b[39m\u001b[38;5;124m'\u001b[39m, ascending\u001b[38;5;241m=\u001b[39m\u001b[38;5;28;01mFalse\u001b[39;00m)\u001b[38;5;241m.\u001b[39miloc[:\u001b[38;5;241m3\u001b[39m]\n",
      "\u001b[1;31mNameError\u001b[0m: name 'df' is not defined"
     ]
    }
   ],
   "source": [
    "import numpy as np\n",
    "covariance = np.cov(Mar Cap - Crore, Sales Qtr - Crore)[0, 1]\n",
    "\n",
    "# Scaled version of covariance as it does not affect by change in scale and limit from -1 to +1.\n",
    "correlation = np.corrcoef(Mar Cap - Crore, Sales Qtr - Crore)[0, 1]\n",
    "print(\"COV- \",covariance)\n",
    "print(\"CORR- \",correlation)\n",
    "\n",
    "plt.plot(Mar Cap - Crore)\n",
    "plt.plot(Sales Qtr - Crore)\n",
    "plt.title(\"Stock Vs Market Returns\")\n",
    "plt.show()"
   ]
  },
  {
   "cell_type": "code",
   "execution_count": null,
   "id": "023ffb39-db0a-4a71-b046-9181fce824ac",
   "metadata": {},
   "outputs": [],
   "source": []
  }
 ],
 "metadata": {
  "kernelspec": {
   "display_name": "Python 3 (ipykernel)",
   "language": "python",
   "name": "python3"
  },
  "language_info": {
   "codemirror_mode": {
    "name": "ipython",
    "version": 3
   },
   "file_extension": ".py",
   "mimetype": "text/x-python",
   "name": "python",
   "nbconvert_exporter": "python",
   "pygments_lexer": "ipython3",
   "version": "3.11.7"
  }
 },
 "nbformat": 4,
 "nbformat_minor": 5
}
